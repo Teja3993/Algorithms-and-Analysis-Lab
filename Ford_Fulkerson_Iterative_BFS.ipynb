{
  "nbformat": 4,
  "nbformat_minor": 0,
  "metadata": {
    "colab": {
      "provenance": [],
      "authorship_tag": "ABX9TyMb7+OAgbXVBnYPF/7U9aS4",
      "include_colab_link": true
    },
    "kernelspec": {
      "name": "python3",
      "display_name": "Python 3"
    },
    "language_info": {
      "name": "python"
    }
  },
  "cells": [
    {
      "cell_type": "markdown",
      "metadata": {
        "id": "view-in-github",
        "colab_type": "text"
      },
      "source": [
        "<a href=\"https://colab.research.google.com/github/Teja3993/Algorithms-and-Analysis-Lab/blob/main/Ford_Fulkerson_Iterative_BFS.ipynb\" target=\"_parent\"><img src=\"https://colab.research.google.com/assets/colab-badge.svg\" alt=\"Open In Colab\"/></a>"
      ]
    },
    {
      "cell_type": "code",
      "execution_count": 2,
      "metadata": {
        "colab": {
          "base_uri": "https://localhost:8080/"
        },
        "id": "R66cyEN4EVWu",
        "outputId": "17c8fa9a-893f-470b-8752-b32654df3985"
      },
      "outputs": [
        {
          "output_type": "stream",
          "name": "stdout",
          "text": [
            "path  [(0, 1), (1, 3), (3, 5)]\n",
            "path  [(0, 1), (1, 4), (4, 5)]\n",
            "path  [(0, 2), (2, 4), (4, 5)]\n",
            "path  [(0, 2), (2, 1), (1, 4), (4, 5)]\n",
            "path  None\n",
            "Ford-Fulkerson algorithm with Iterative BFS\n",
            "max_flow_value is:  8\n"
          ]
        }
      ],
      "source": [
        "from collections import deque\n",
        "\n",
        "def bfs_iterative(C, F, s, t):\n",
        "  queue = deque([s])\n",
        "  paths = {s:[]}\n",
        "  while queue:\n",
        "    u = queue.popleft()\n",
        "\n",
        "    for v in range(len(C)):\n",
        "      if (C[u][v] - F[u][v] > 0) and v not in paths:\n",
        "        paths[v] = paths[u] + [(u,v)]\n",
        "\n",
        "        if v == t:\n",
        "          return paths[v]\n",
        "\n",
        "        queue.append(v)\n",
        "\n",
        "  return None\n",
        "\n",
        "def max_flow(C, s, t):\n",
        "  n = len(C)\n",
        "  F = [[0]*n for _ in range(n)]\n",
        "  path = bfs_iterative(C, F, s, t)\n",
        "  print(\"path \", path)\n",
        "\n",
        "  while path is not None:\n",
        "\n",
        "    flow = min(C[u][v] - F[u][v] for u,v in path)\n",
        "    for u,v in path:\n",
        "      F[u][v] += flow\n",
        "      F[v][u] -= flow\n",
        "\n",
        "    path = bfs_iterative(C, F, s, t)\n",
        "    print(\"path \",path)\n",
        "  return sum(F[s][i] for i in range(n))\n",
        "\n",
        "\n",
        "\n",
        "\n",
        "C = [\n",
        "[0, 3, 7, 0, 0, 0] ,\n",
        "[0, 0, 0, 3, 4, 0] ,\n",
        "[0, 5, 0, 0, 3, 0] ,\n",
        "[0, 0, 0, 0, 3, 2] ,\n",
        "[0, 0, 0, 0, 0, 6] ,\n",
        "[0, 0, 0, 0, 0, 0]\n",
        "]\n",
        "\n",
        "source = 0\n",
        "sink = len(C) - 1\n",
        "\n",
        "max_flow_value = max_flow(C, source, sink)\n",
        "print(\"Ford-Fulkerson algorithm with Iterative BFS\")\n",
        "print(\"max_flow_value is: \", max_flow_value)"
      ]
    }
  ]
}