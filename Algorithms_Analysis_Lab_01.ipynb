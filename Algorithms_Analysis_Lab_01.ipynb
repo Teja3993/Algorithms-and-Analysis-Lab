{
  "nbformat": 4,
  "nbformat_minor": 0,
  "metadata": {
    "colab": {
      "provenance": []
    },
    "kernelspec": {
      "name": "python3",
      "display_name": "Python 3"
    },
    "language_info": {
      "name": "python"
    }
  },
  "cells": [
    {
      "cell_type": "code",
      "execution_count": 1,
      "metadata": {
        "id": "TPwhSpV1M5XI",
        "colab": {
          "base_uri": "https://localhost:8080/"
        },
        "outputId": "54e68f3c-53ff-47ba-bc1e-9722252781af"
      },
      "outputs": [
        {
          "output_type": "stream",
          "name": "stdout",
          "text": [
            "[1, 16, 19, 32, 45, 76, 84]\n"
          ]
        }
      ],
      "source": [
        "#Bubble Sort\n",
        "def bubble_sort(a,n):\n",
        "  for i in range(n):\n",
        "    swapped = False\n",
        "    for j in range(0,n-i-1):\n",
        "      if a[j]>a[j+1]:\n",
        "        a[j],a[j+1] = a[j+1],a[j]\n",
        "        swapped=True\n",
        "    if not swapped:\n",
        "      break\n",
        "  return a\n",
        "\n",
        "a = [45,32,16,84,76,1,19]\n",
        "n = len(a)\n",
        "print(bubble_sort(a,n))"
      ]
    },
    {
      "cell_type": "code",
      "source": [
        "#Selection sort\n",
        "def selection_sort(a):\n",
        "  for i in range(0,len(a)):\n",
        "    min_index = i\n",
        "    for j in range(i+1,len(a)):\n",
        "      if a[min_index]>a[j]:\n",
        "        min_index = j\n",
        "    a[i],a[min_index]=a[min_index],a[i]\n",
        "  return a\n",
        "\n",
        "a = [45,32,16,84,76,1,19]\n",
        "print(selection_sort(a))\n",
        "\n"
      ],
      "metadata": {
        "colab": {
          "base_uri": "https://localhost:8080/"
        },
        "id": "iaDaMrufMxn8",
        "outputId": "1e97faba-c347-488e-cecf-b945b01ebbb0"
      },
      "execution_count": 2,
      "outputs": [
        {
          "output_type": "stream",
          "name": "stdout",
          "text": [
            "[1, 16, 19, 32, 45, 76, 84]\n"
          ]
        }
      ]
    },
    {
      "cell_type": "code",
      "source": [
        "#Insertion sort in Python\n",
        "def insertion_sort(a):\n",
        "  for i in range(1,len(a)):\n",
        "    key = a[i]\n",
        "    j = i-1\n",
        "    while j>=0 and a[j]>key:\n",
        "      a[j+1]=a[j]\n",
        "      j-=1\n",
        "      a[j+1]=key\n",
        "  return a\n",
        "\n",
        "a =[45,32,16,84,76,1,19]\n",
        "print(insertion_sort(a))\n"
      ],
      "metadata": {
        "colab": {
          "base_uri": "https://localhost:8080/"
        },
        "id": "Vb7AQX09Oz-4",
        "outputId": "19ddb294-feb8-4d05-fbcf-4ef20aad2f6d"
      },
      "execution_count": 3,
      "outputs": [
        {
          "output_type": "stream",
          "name": "stdout",
          "text": [
            "[1, 16, 19, 32, 45, 76, 84]\n"
          ]
        }
      ]
    }
  ]
}