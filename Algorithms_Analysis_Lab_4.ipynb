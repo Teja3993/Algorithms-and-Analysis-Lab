{
  "nbformat": 4,
  "nbformat_minor": 0,
  "metadata": {
    "colab": {
      "provenance": [],
      "authorship_tag": "ABX9TyP7JSCNsRh0JkP13CuCziZY",
      "include_colab_link": true
    },
    "kernelspec": {
      "name": "python3",
      "display_name": "Python 3"
    },
    "language_info": {
      "name": "python"
    }
  },
  "cells": [
    {
      "cell_type": "markdown",
      "metadata": {
        "id": "view-in-github",
        "colab_type": "text"
      },
      "source": [
        "<a href=\"https://colab.research.google.com/github/Teja3993/Algorithms-and-Analysis-Lab/blob/main/Algorithms_Analysis_Lab_4.ipynb\" target=\"_parent\"><img src=\"https://colab.research.google.com/assets/colab-badge.svg\" alt=\"Open In Colab\"/></a>"
      ]
    },
    {
      "cell_type": "code",
      "execution_count": null,
      "metadata": {
        "colab": {
          "base_uri": "https://localhost:8080/"
        },
        "id": "WxVtvM9jtwTn",
        "outputId": "f923c18f-a816-402c-b263-f8ad75b0627a"
      },
      "outputs": [
        {
          "output_type": "stream",
          "name": "stdout",
          "text": [
            "{'A': 0, 'B': 1, 'D': 1, 'C': 2, 'G': 3, 'H': 4, 'I': 4, 'F': 4}\n"
          ]
        }
      ],
      "source": [
        "#Implementing shortest distance between a given node and all other vertices\n",
        "def bfs_shortest_path(graph, start):\n",
        "  distance = {}\n",
        "  current_layer = [start]\n",
        "  next_layer=[]\n",
        "  distance[start]=0\n",
        "  while(current_layer):\n",
        "    current_node = current_layer.pop(0)\n",
        "    for neighbor in graph[current_node]:\n",
        "      if neighbor not in distance:\n",
        "        next_layer.append(neighbor)\n",
        "        distance[neighbor]=distance[current_node]+1\n",
        "    if neighbor not in current_layer:\n",
        "        current_layer,next_layer = next_layer,[]\n",
        "  return distance\n",
        "\n",
        "graph = {\n",
        "      'A':['B','D'],\n",
        "      'B':['A','C'],\n",
        "      'C':['B','G'],\n",
        "      'D':['A','E'],\n",
        "      'E':['D','F'],\n",
        "      'F':['E','G'],\n",
        "      'G':['H','I','C','F'],\n",
        "      'H':['G','I'],\n",
        "      'I':['G','H']\n",
        "  }\n",
        "\n",
        "dist_path = bfs_shortest_path(graph,'A')\n",
        "print(dist_path)"
      ]
    },
    {
      "cell_type": "code",
      "source": [
        "#Implementing shortest distance from given start node to end node\n",
        "def shortest_path_dist(graph,start,end):\n",
        "  queue = [(start,0)]\n",
        "  visited = set()\n",
        "  visited.add(start)\n",
        "  while queue:\n",
        "    node,distance = queue.pop()\n",
        "    if node == end:\n",
        "      return distance\n",
        "    for neighbor in graph[node]:\n",
        "      if neighbor not in visited:\n",
        "        visited.add(neighbor)\n",
        "        queue.append((neighbor,distance+1))\n",
        "  return -1\n",
        "\n",
        "\n",
        "graph = {\n",
        "    'A':['B','C'],\n",
        "    'B':['A','C','D'],\n",
        "    'C':['A','B','E','F'],\n",
        "    'D':['B'],\n",
        "    'E':['C'],\n",
        "    'F':['C']\n",
        "}\n",
        "shortest_distance = shortest_path_dist(graph,'A','F')\n",
        "print(shortest_distance)\n"
      ],
      "metadata": {
        "colab": {
          "base_uri": "https://localhost:8080/"
        },
        "id": "R2v10K3IxbYg",
        "outputId": "43790881-2d4c-43db-9f78-a5325ac8d6e9"
      },
      "execution_count": null,
      "outputs": [
        {
          "output_type": "stream",
          "name": "stdout",
          "text": [
            "2\n"
          ]
        }
      ]
    },
    {
      "cell_type": "code",
      "source": [
        "#Implementing Depth First Search\n",
        "def iterative_dfs(graph, start):\n",
        "    stack = [start]\n",
        "    visited = set()\n",
        "    visited.add(start)\n",
        "\n",
        "    # Store the traversal path\n",
        "    path = []\n",
        "\n",
        "    while stack:\n",
        "        # Pop the last node added (LIFO)\n",
        "        vertex = stack.pop()\n",
        "        path.append(vertex)\n",
        "\n",
        "        # Add unvisited neighbors to the stack\n",
        "        for neighbor in reversed(graph[vertex]):\n",
        "            if neighbor not in visited:\n",
        "                visited.add(neighbor)\n",
        "                stack.append(neighbor)\n",
        "\n",
        "    return path\n",
        "\n",
        "# Example usage\n",
        "graph = {\n",
        "    'A': ['B', 'C'],\n",
        "    'B': ['D', 'E'],\n",
        "    'C': ['F'],\n",
        "    'D': [],\n",
        "    'E': ['F'],\n",
        "    'F': []\n",
        "}\n",
        "\n",
        "print(f\"Iterative DFS traversal: {iterative_dfs(graph, 'A')}\")"
      ],
      "metadata": {
        "colab": {
          "base_uri": "https://localhost:8080/"
        },
        "id": "p8mvNdKr7vuF",
        "outputId": "4e808c70-f9df-4cfb-ad2d-8142a747b1c1"
      },
      "execution_count": null,
      "outputs": [
        {
          "output_type": "stream",
          "name": "stdout",
          "text": [
            "Iterative DFS traversal: ['A', 'B', 'D', 'E', 'F', 'C']\n"
          ]
        }
      ]
    },
    {
      "cell_type": "code",
      "source": [
        "#Implementing DFS using recursion\n",
        "def recursive_dfs(graph, start, visited=None, path=None):\n",
        "    if visited is None:\n",
        "        visited = set()\n",
        "    if path is None:\n",
        "        path = []\n",
        "\n",
        "    visited.add(start)\n",
        "    path.append(start)\n",
        "\n",
        "    for neighbor in graph[start]:\n",
        "        if neighbor not in visited:\n",
        "            recursive_dfs(graph, neighbor, visited, path)\n",
        "\n",
        "    return path\n",
        "\n",
        "# Example usage (same graph as above)\n",
        "print(f\"Recursive DFS traversal: {recursive_dfs(graph, 'A')}\")"
      ],
      "metadata": {
        "colab": {
          "base_uri": "https://localhost:8080/"
        },
        "id": "H1ZOBCYc9jse",
        "outputId": "75879132-2423-4e7c-fb36-4e01588cbe76"
      },
      "execution_count": null,
      "outputs": [
        {
          "output_type": "stream",
          "name": "stdout",
          "text": [
            "Recursive DFS traversal: ['A', 'B', 'D', 'E', 'F', 'C']\n"
          ]
        }
      ]
    },
    {
      "cell_type": "code",
      "source": [
        "#DFS --- Cycle Detection\n",
        "def has_cycle_dfs(graph):\n",
        "    visited = set()\n",
        "    path = set()\n",
        "\n",
        "    for node in graph:\n",
        "        if node not in visited:\n",
        "            # Check for a cycle starting from this node\n",
        "            if dfs_util(node, graph, visited, path):\n",
        "                return True\n",
        "    return False\n",
        "\n",
        "def dfs_util(node, graph, visited, path):\n",
        "    # Add the current node to both visited and path sets\n",
        "    visited.add(node)\n",
        "    path.add(node)\n",
        "\n",
        "    for neighbor in graph.get(node, []):\n",
        "        if neighbor not in visited:\n",
        "            # If the recursive call returns True, a cycle was found\n",
        "            if dfs_util(neighbor, graph, visited, path):\n",
        "                return True\n",
        "        elif neighbor in path:\n",
        "            # A neighbor is in the current recursion path, so we've found a back edge, which means a cycle exists\n",
        "            return True\n",
        "\n",
        "    # Backtrack: remove the current node from the path as we're done with its neighbors\n",
        "    path.remove(node)\n",
        "    return False\n",
        "\n",
        "# Example usage with a cyclic directed graph\n",
        "cyclic_graph = {\n",
        "    'A': ['B'],\n",
        "    'B': ['C'],\n",
        "    'C': ['A'] # This creates the cycle\n",
        "}\n",
        "print(f\"Does the cyclic graph have a cycle? {has_cycle_dfs(cyclic_graph)}\")\n",
        "\n",
        "# Example usage with an acyclic directed graph\n",
        "acyclic_graph = {\n",
        "    'A': ['B'],\n",
        "    'B': ['C'],\n",
        "    'C': []\n",
        "}\n",
        "print(f\"Does the acyclic graph have a cycle? {has_cycle_dfs(acyclic_graph)}\")"
      ],
      "metadata": {
        "colab": {
          "base_uri": "https://localhost:8080/"
        },
        "id": "7wiPUzFW9ui1",
        "outputId": "9390a43a-9408-4586-cb5d-77dcf15e60e6"
      },
      "execution_count": null,
      "outputs": [
        {
          "output_type": "stream",
          "name": "stdout",
          "text": [
            "Does the cyclic graph have a cycle? True\n",
            "Does the acyclic graph have a cycle? False\n"
          ]
        }
      ]
    }
  ]
}